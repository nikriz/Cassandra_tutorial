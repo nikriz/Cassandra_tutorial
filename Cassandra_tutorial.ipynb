{
 "cells": [
  {
   "cell_type": "markdown",
   "id": "7ea8ea51",
   "metadata": {},
   "source": [
    "# Cassandra & CQL Guide\n",
    "\n",
    "We will use python 3.8 + Datastax driver and this jupyter notebook to run the codes (for convenience)"
   ]
  },
  {
   "cell_type": "markdown",
   "id": "4717e4cf",
   "metadata": {},
   "source": [
    "![title](img/Cassandra_Tutorials_02.png)"
   ]
  },
  {
   "cell_type": "markdown",
   "id": "f1fa8e78",
   "metadata": {},
   "source": [
    "![title](img/Cassandra_Tutorials_03.png)"
   ]
  },
  {
   "cell_type": "markdown",
   "id": "90fc65f5",
   "metadata": {},
   "source": [
    "![title](img/Cassandra_Tutorials_04.png)"
   ]
  },
  {
   "cell_type": "markdown",
   "id": "277f3d12",
   "metadata": {},
   "source": [
    "![title](img/Cassandra_Tutorials_05.png)"
   ]
  },
  {
   "cell_type": "markdown",
   "id": "43a7215d",
   "metadata": {},
   "source": [
    "### Initalization\n",
    "\n",
    "Run `cassandra` on cmd / terminal (single node)"
   ]
  },
  {
   "cell_type": "code",
   "execution_count": 1,
   "id": "df730692",
   "metadata": {},
   "outputs": [],
   "source": [
    "from cassandra.cluster import Cluster\n",
    "\n",
    "cluster = Cluster(port=9042)\n",
    "session = cluster.connect()"
   ]
  },
  {
   "cell_type": "code",
   "execution_count": 2,
   "id": "0c3ee2d0",
   "metadata": {},
   "outputs": [
    {
     "data": {
      "text/plain": [
       "[Row(release_version='3.0.27')]"
      ]
     },
     "execution_count": 2,
     "metadata": {},
     "output_type": "execute_result"
    }
   ],
   "source": [
    "session.execute(\"select release_version from system.local\").all()"
   ]
  },
  {
   "cell_type": "code",
   "execution_count": 3,
   "id": "43e7d080",
   "metadata": {},
   "outputs": [
    {
     "data": {
      "text/plain": [
       "<cassandra.cluster.ResultSet at 0x1404e936fd0>"
      ]
     },
     "execution_count": 3,
     "metadata": {},
     "output_type": "execute_result"
    }
   ],
   "source": [
    "# Drop all incase you run this again\n",
    "session.execute(\"DROP MATERIALIZED VIEW IF EXISTS snu.student_by_name\")\n",
    "session.execute(\"DROP TABLE IF EXISTS snu.student\")\n",
    "\n",
    "session.execute(\"DROP TABLE IF EXISTS snu.BKMS2\")\n",
    "session.execute(\"DROP TABLE IF EXISTS snu.lecture_student\")\n",
    "\n",
    "session.execute(\"DROP KEYSPACE IF EXISTS snu\")"
   ]
  },
  {
   "cell_type": "code",
   "execution_count": 4,
   "id": "7a413ce8",
   "metadata": {},
   "outputs": [
    {
     "data": {
      "text/plain": [
       "[Row(keyspace_name='system_auth'),\n",
       " Row(keyspace_name='system_schema'),\n",
       " Row(keyspace_name='system_distributed'),\n",
       " Row(keyspace_name='system'),\n",
       " Row(keyspace_name='system_traces')]"
      ]
     },
     "execution_count": 4,
     "metadata": {},
     "output_type": "execute_result"
    }
   ],
   "source": [
    "session.execute(\"SELECT keyspace_name FROM system_schema.keyspaces\").all()"
   ]
  },
  {
   "cell_type": "code",
   "execution_count": 5,
   "id": "e331ebce",
   "metadata": {},
   "outputs": [
    {
     "name": "stdout",
     "output_type": "stream",
     "text": [
      "Datacenter: datacenter1\n",
      "========================\n",
      "Status=Up/Down\n",
      "|/ State=Normal/Leaving/Joining/Moving\n",
      "--  Address    Load       Tokens       Owns (effective)  Host ID                               Rack\n",
      "UN  127.0.0.1  227.52 KB  256          100.0%            dbc99623-ab6e-4807-9b9d-68f141db7221  rack1\n",
      "\n"
     ]
    }
   ],
   "source": [
    "!nodetool status"
   ]
  },
  {
   "cell_type": "markdown",
   "id": "585e17ff",
   "metadata": {},
   "source": [
    "### Basic queries"
   ]
  },
  {
   "cell_type": "markdown",
   "id": "f0b9801f",
   "metadata": {},
   "source": [
    "#### Create Keyspace"
   ]
  },
  {
   "cell_type": "code",
   "execution_count": 6,
   "id": "27effab1",
   "metadata": {},
   "outputs": [
    {
     "data": {
      "text/plain": [
       "<cassandra.cluster.ResultSet at 0x1404e9380a0>"
      ]
     },
     "execution_count": 6,
     "metadata": {},
     "output_type": "execute_result"
    }
   ],
   "source": [
    "# Keyspace = Database\n",
    "session.execute(\n",
    "'''\n",
    "CREATE KEYSPACE snu \n",
    "    WITH REPLICATION = { \n",
    "        'class' : 'SimpleStrategy', \n",
    "        'replication_factor' : 1\n",
    "        } \n",
    "'''\n",
    ")"
   ]
  },
  {
   "cell_type": "markdown",
   "id": "ba2ee391",
   "metadata": {},
   "source": [
    "#### Create Table"
   ]
  },
  {
   "cell_type": "code",
   "execution_count": 7,
   "id": "0ee33e8c",
   "metadata": {},
   "outputs": [
    {
     "data": {
      "text/plain": [
       "<cassandra.cluster.ResultSet at 0x1404e5bf9a0>"
      ]
     },
     "execution_count": 7,
     "metadata": {},
     "output_type": "execute_result"
    }
   ],
   "source": [
    "# Keyspace = Database\n",
    "session.execute(\n",
    "'''                \n",
    "CREATE TABLE snu.student ( \n",
    "    year int,\n",
    "    id int,\n",
    "    name text, \n",
    "    dept text, \n",
    "    email text,\n",
    "    PRIMARY KEY (year, id)\n",
    ") WITH CLUSTERING ORDER BY (id ASC)\n",
    "'''\n",
    ")"
   ]
  },
  {
   "cell_type": "code",
   "execution_count": 8,
   "id": "2cc6c126",
   "metadata": {},
   "outputs": [
    {
     "data": {
      "text/plain": [
       "[Row(keyspace_name='system_auth'),\n",
       " Row(keyspace_name='system_schema'),\n",
       " Row(keyspace_name='snu'),\n",
       " Row(keyspace_name='system_distributed'),\n",
       " Row(keyspace_name='system'),\n",
       " Row(keyspace_name='system_traces')]"
      ]
     },
     "execution_count": 8,
     "metadata": {},
     "output_type": "execute_result"
    }
   ],
   "source": [
    "response = session.execute(\"SELECT keyspace_name FROM system_schema.keyspaces\")\n",
    "response.all()"
   ]
  },
  {
   "cell_type": "code",
   "execution_count": 9,
   "id": "c187a6b5",
   "metadata": {},
   "outputs": [
    {
     "data": {
      "text/plain": [
       "[Row(table_name='student')]"
      ]
     },
     "execution_count": 9,
     "metadata": {},
     "output_type": "execute_result"
    }
   ],
   "source": [
    "session.execute(\"SELECT table_name FROM system_schema.tables WHERE keyspace_name = 'snu'\").all()"
   ]
  },
  {
   "cell_type": "code",
   "execution_count": 10,
   "id": "746cd0f1",
   "metadata": {},
   "outputs": [
    {
     "data": {
      "text/plain": [
       "[Row(keyspace_name='snu', table_name='student', column_name='dept', clustering_order='none', column_name_bytes=b'dept', kind='regular', position=-1, type='text'),\n",
       " Row(keyspace_name='snu', table_name='student', column_name='email', clustering_order='none', column_name_bytes=b'email', kind='regular', position=-1, type='text'),\n",
       " Row(keyspace_name='snu', table_name='student', column_name='id', clustering_order='asc', column_name_bytes=b'id', kind='clustering', position=0, type='int'),\n",
       " Row(keyspace_name='snu', table_name='student', column_name='name', clustering_order='none', column_name_bytes=b'name', kind='regular', position=-1, type='text'),\n",
       " Row(keyspace_name='snu', table_name='student', column_name='year', clustering_order='none', column_name_bytes=b'year', kind='partition_key', position=0, type='int')]"
      ]
     },
     "execution_count": 10,
     "metadata": {},
     "output_type": "execute_result"
    }
   ],
   "source": [
    "session.execute(\n",
    "'''\n",
    "SELECT * FROM system_schema.columns\n",
    "WHERE keyspace_name = 'snu' AND table_name = 'student';\n",
    "'''\n",
    ").all()"
   ]
  },
  {
   "cell_type": "markdown",
   "id": "dfd5a8a9",
   "metadata": {},
   "source": [
    "#### Insert records into the table"
   ]
  },
  {
   "cell_type": "code",
   "execution_count": 11,
   "id": "78d053c3",
   "metadata": {},
   "outputs": [
    {
     "data": {
      "text/plain": [
       "<cassandra.cluster.ResultSet at 0x1404e960670>"
      ]
     },
     "execution_count": 11,
     "metadata": {},
     "output_type": "execute_result"
    }
   ],
   "source": [
    "# Inserts need primary keys\n",
    "session.execute(\n",
    "'''\n",
    "INSERT INTO snu.student (year, id, name, dept, email)\n",
    "  VALUES(2019, 55555, 'Jun Ha Chun', 'ECE', 'nikriz@snu.ac.kr');\n",
    "'''\n",
    ")\n",
    "session.execute(\n",
    "'''\n",
    "INSERT INTO snu.student (year, id, name, dept, email)\n",
    "  VALUES(2020, 44444, 'Ji Soo Jang', 'DS', 'simonjisu@snu.ac.kr');\n",
    "'''\n",
    ")\n",
    "session.execute(\n",
    "'''\n",
    "INSERT INTO snu.student (year, id, name, dept, email)\n",
    "  VALUES(2020, 11111, 'Kim Kim Kim', 'ECE', 'kim@snu.ac.kr');\n",
    "'''\n",
    ")\n",
    "session.execute(\n",
    "'''\n",
    "INSERT INTO snu.student (year, id, name, dept, email)\n",
    "  VALUES(2019, 22222, 'Lee Lee Lee', 'DS', 'lee@snu.ac.kr');\n",
    "'''\n",
    ")\n",
    "session.execute(\n",
    "'''\n",
    "INSERT INTO snu.student (year, id, name, dept, email)\n",
    "  VALUES(2020, 33333, 'Park Park Park', 'DS', 'park@snu.ac.kr');\n",
    "'''\n",
    ")"
   ]
  },
  {
   "cell_type": "code",
   "execution_count": 12,
   "id": "1decf062",
   "metadata": {},
   "outputs": [
    {
     "data": {
      "text/plain": [
       "[Row(year=2019, id=22222, dept='DS', email='lee@snu.ac.kr', name='Lee Lee Lee'),\n",
       " Row(year=2019, id=55555, dept='ECE', email='nikriz@snu.ac.kr', name='Jun Ha Chun'),\n",
       " Row(year=2020, id=11111, dept='ECE', email='kim@snu.ac.kr', name='Kim Kim Kim'),\n",
       " Row(year=2020, id=33333, dept='DS', email='park@snu.ac.kr', name='Park Park Park'),\n",
       " Row(year=2020, id=44444, dept='DS', email='simonjisu@snu.ac.kr', name='Ji Soo Jang')]"
      ]
     },
     "execution_count": 12,
     "metadata": {},
     "output_type": "execute_result"
    }
   ],
   "source": [
    "session.execute(\"SELECT * FROM snu.student\").all()"
   ]
  },
  {
   "cell_type": "markdown",
   "id": "ca6f9a4a",
   "metadata": {},
   "source": [
    "#### Update a record + @\n",
    "\n",
    "- You can dump your tables using `nodetool flush` in data folder in install directory \n",
    "- You can check table's id from system schema\n",
    "- You can read the dumped file using `sstabledump`\n",
    "- After update, delta is created\n",
    "- You can compact using `nodetool compact`"
   ]
  },
  {
   "cell_type": "code",
   "execution_count": 13,
   "id": "2b9b6956",
   "metadata": {},
   "outputs": [],
   "source": [
    "!nodetool flush snu student"
   ]
  },
  {
   "cell_type": "code",
   "execution_count": 14,
   "id": "66f7b76b",
   "metadata": {},
   "outputs": [],
   "source": [
    "uuid = str(session.execute(\"SELECT id FROM system_schema.tables WHERE keyspace_name = 'snu'\").all()[0].id).replace(\"-\",\"\")"
   ]
  },
  {
   "cell_type": "code",
   "execution_count": 15,
   "id": "2f966de9",
   "metadata": {},
   "outputs": [
    {
     "name": "stdout",
     "output_type": "stream",
     "text": [
      "[2019]@0 Row[info=[ts=1664220528254716] ]: 22222 | [dept=DS ts=1664220528254716], [email=lee@snu.ac.kr ts=1664220528254716], [name=Lee Lee Lee ts=1664220528254716]\n",
      "[2019]@60 Row[info=[ts=1664220528244706] ]: 55555 | [dept=ECE ts=1664220528244706], [email=nikriz@snu.ac.kr ts=1664220528244706], [name=Jun Ha Chun ts=1664220528244706]\n",
      "[2020]@106 Row[info=[ts=1664220528250707] ]: 11111 | [dept=ECE ts=1664220528250707], [email=kim@snu.ac.kr ts=1664220528250707], [name=Kim Kim Kim ts=1664220528250707]\n",
      "[2020]@167 Row[info=[ts=1664220528258707] ]: 33333 | [dept=DS ts=1664220528258707], [email=park@snu.ac.kr ts=1664220528258707], [name=Park Park Park ts=1664220528258707]\n",
      "[2020]@213 Row[info=[ts=1664220528246707] ]: 44444 | [dept=DS ts=1664220528246707], [email=simonjisu@snu.ac.kr ts=1664220528246707], [name=Ji Soo Jang ts=1664220528246707]\n"
     ]
    }
   ],
   "source": [
    "!sstabledump C:\\Cassandra\\apache-cassandra-3.0.27\\data\\data\\snu\\student-{uuid}\\me-1-big-Data.db -d"
   ]
  },
  {
   "cell_type": "code",
   "execution_count": 16,
   "id": "2cd1b4ed",
   "metadata": {},
   "outputs": [
    {
     "data": {
      "text/plain": [
       "<cassandra.cluster.ResultSet at 0x1404e4b57c0>"
      ]
     },
     "execution_count": 16,
     "metadata": {},
     "output_type": "execute_result"
    }
   ],
   "source": [
    "session.execute(\n",
    "'''\n",
    "UPDATE snu.student\n",
    "SET email = 'junha@snu.ac.kr'\n",
    "WHERE year=2019 AND id = 55555 IF EXISTS;\n",
    "'''\n",
    ")"
   ]
  },
  {
   "cell_type": "code",
   "execution_count": 17,
   "id": "5b4ee4f9",
   "metadata": {},
   "outputs": [
    {
     "data": {
      "text/plain": [
       "[Row(year=2019, id=22222, dept='DS', email='lee@snu.ac.kr', name='Lee Lee Lee'),\n",
       " Row(year=2019, id=55555, dept='ECE', email='junha@snu.ac.kr', name='Jun Ha Chun'),\n",
       " Row(year=2020, id=11111, dept='ECE', email='kim@snu.ac.kr', name='Kim Kim Kim'),\n",
       " Row(year=2020, id=33333, dept='DS', email='park@snu.ac.kr', name='Park Park Park'),\n",
       " Row(year=2020, id=44444, dept='DS', email='simonjisu@snu.ac.kr', name='Ji Soo Jang')]"
      ]
     },
     "execution_count": 17,
     "metadata": {},
     "output_type": "execute_result"
    }
   ],
   "source": [
    "session.execute(\"SELECT * FROM snu.student\").all()"
   ]
  },
  {
   "cell_type": "code",
   "execution_count": 18,
   "id": "900cfc70",
   "metadata": {},
   "outputs": [],
   "source": [
    "!nodetool flush snu student"
   ]
  },
  {
   "cell_type": "code",
   "execution_count": 19,
   "id": "1519bb15",
   "metadata": {},
   "outputs": [
    {
     "name": "stdout",
     "output_type": "stream",
     "text": [
      "[2019]@0 Row[info=[ts=-9223372036854775808] ]: 55555 | [email=junha@snu.ac.kr ts=1664220532906000]\n"
     ]
    }
   ],
   "source": [
    "!sstabledump C:\\Cassandra\\apache-cassandra-3.0.27\\data\\data\\snu\\student-{uuid}\\me-2-big-Data.db -d"
   ]
  },
  {
   "cell_type": "code",
   "execution_count": 20,
   "id": "e13d09d1",
   "metadata": {},
   "outputs": [],
   "source": [
    "!nodetool compact snu student"
   ]
  },
  {
   "cell_type": "code",
   "execution_count": 21,
   "id": "339bc2ce",
   "metadata": {},
   "outputs": [
    {
     "name": "stdout",
     "output_type": "stream",
     "text": [
      " C 드라이브의 볼륨에는 이름이 없습니다.\n",
      " 볼륨 일련 번호: B483-D382\n",
      "\n",
      " C:\\Cassandra\\apache-cassandra-3.0.27\\data\\data\\snu\\student-709315203dd111eda96abf4bb1932169 디렉터리\n",
      "\n",
      "2022-09-27  오전 04:28    <DIR>          .\n",
      "2022-09-27  오전 04:28    <DIR>          ..\n",
      "2022-09-27  오전 04:28    <DIR>          backups\n",
      "2022-09-27  오전 04:28                43 me-3-big-CompressionInfo.db\n",
      "2022-09-27  오전 04:28               201 me-3-big-Data.db\n",
      "2022-09-27  오전 04:28                 9 me-3-big-Digest.crc32\n",
      "2022-09-27  오전 04:28                16 me-3-big-Filter.db\n",
      "2022-09-27  오전 04:28                16 me-3-big-Index.db\n",
      "2022-09-27  오전 04:28             4,838 me-3-big-Statistics.db\n",
      "2022-09-27  오전 04:28                56 me-3-big-Summary.db\n",
      "2022-09-27  오전 04:28               100 me-3-big-TOC.txt\n",
      "               8개 파일               5,279 바이트\n",
      "               3개 디렉터리  154,553,118,720 바이트 남음\n"
     ]
    }
   ],
   "source": [
    "!dir C:\\Cassandra\\apache-cassandra-3.0.27\\data\\data\\snu\\student-{uuid}"
   ]
  },
  {
   "cell_type": "markdown",
   "id": "4ef169cc",
   "metadata": {},
   "source": [
    "#### Delete record from the table"
   ]
  },
  {
   "cell_type": "code",
   "execution_count": 22,
   "id": "20d9fbd3",
   "metadata": {},
   "outputs": [
    {
     "data": {
      "text/plain": [
       "<cassandra.cluster.ResultSet at 0x1404e938100>"
      ]
     },
     "execution_count": 22,
     "metadata": {},
     "output_type": "execute_result"
    }
   ],
   "source": [
    "session.execute(\n",
    "'''\n",
    "INSERT INTO snu.student (year, id, name, dept, email)\n",
    "  VALUES(9999, 9999, 'Not human', 'X', 'X@snu.ac.kr');\n",
    "'''\n",
    ")"
   ]
  },
  {
   "cell_type": "code",
   "execution_count": 23,
   "id": "76254172",
   "metadata": {},
   "outputs": [
    {
     "data": {
      "text/plain": [
       "<cassandra.cluster.ResultSet at 0x1404e536d90>"
      ]
     },
     "execution_count": 23,
     "metadata": {},
     "output_type": "execute_result"
    }
   ],
   "source": [
    "session.execute(\"DELETE FROM snu.student WHERE year = 9999\")"
   ]
  },
  {
   "cell_type": "code",
   "execution_count": 24,
   "id": "2868402a",
   "metadata": {},
   "outputs": [
    {
     "data": {
      "text/plain": [
       "[Row(year=2019, id=22222, dept='DS', email='lee@snu.ac.kr', name='Lee Lee Lee'),\n",
       " Row(year=2019, id=55555, dept='ECE', email='junha@snu.ac.kr', name='Jun Ha Chun'),\n",
       " Row(year=2020, id=11111, dept='ECE', email='kim@snu.ac.kr', name='Kim Kim Kim'),\n",
       " Row(year=2020, id=33333, dept='DS', email='park@snu.ac.kr', name='Park Park Park'),\n",
       " Row(year=2020, id=44444, dept='DS', email='simonjisu@snu.ac.kr', name='Ji Soo Jang')]"
      ]
     },
     "execution_count": 24,
     "metadata": {},
     "output_type": "execute_result"
    }
   ],
   "source": [
    "session.execute(\"SELECT * FROM snu.student\").all()"
   ]
  },
  {
   "cell_type": "markdown",
   "id": "4712f55c",
   "metadata": {},
   "source": [
    "#### Empty, Drop the table / Drop the keyspace"
   ]
  },
  {
   "cell_type": "code",
   "execution_count": 25,
   "id": "ac573fe8",
   "metadata": {},
   "outputs": [],
   "source": [
    "#session.execute(\"TRUNCATE TABLE snu.student\")"
   ]
  },
  {
   "cell_type": "code",
   "execution_count": 26,
   "id": "abbf523e",
   "metadata": {},
   "outputs": [],
   "source": [
    "#session.execute(\"DROP TABLE snu.student\")"
   ]
  },
  {
   "cell_type": "code",
   "execution_count": 27,
   "id": "e2ab255e",
   "metadata": {},
   "outputs": [],
   "source": [
    "#session.execute(\"DROP KEYSPACE snu\")"
   ]
  },
  {
   "cell_type": "markdown",
   "id": "103452ab",
   "metadata": {},
   "source": [
    "#### Async"
   ]
  },
  {
   "cell_type": "code",
   "execution_count": 28,
   "id": "36670d3c",
   "metadata": {},
   "outputs": [],
   "source": [
    "responses = []\n",
    "for i in range(5):\n",
    "    responses.append(session.execute_async(\"SELECT * FROM snu.student\"))"
   ]
  },
  {
   "cell_type": "code",
   "execution_count": 29,
   "id": "e2982e42",
   "metadata": {},
   "outputs": [
    {
     "data": {
      "text/plain": [
       "[[Row(year=2019, id=22222, dept='DS', email='lee@snu.ac.kr', name='Lee Lee Lee'),\n",
       "  Row(year=2019, id=55555, dept='ECE', email='junha@snu.ac.kr', name='Jun Ha Chun'),\n",
       "  Row(year=2020, id=11111, dept='ECE', email='kim@snu.ac.kr', name='Kim Kim Kim'),\n",
       "  Row(year=2020, id=33333, dept='DS', email='park@snu.ac.kr', name='Park Park Park'),\n",
       "  Row(year=2020, id=44444, dept='DS', email='simonjisu@snu.ac.kr', name='Ji Soo Jang')],\n",
       " [Row(year=2019, id=22222, dept='DS', email='lee@snu.ac.kr', name='Lee Lee Lee'),\n",
       "  Row(year=2019, id=55555, dept='ECE', email='junha@snu.ac.kr', name='Jun Ha Chun'),\n",
       "  Row(year=2020, id=11111, dept='ECE', email='kim@snu.ac.kr', name='Kim Kim Kim'),\n",
       "  Row(year=2020, id=33333, dept='DS', email='park@snu.ac.kr', name='Park Park Park'),\n",
       "  Row(year=2020, id=44444, dept='DS', email='simonjisu@snu.ac.kr', name='Ji Soo Jang')],\n",
       " [Row(year=2019, id=22222, dept='DS', email='lee@snu.ac.kr', name='Lee Lee Lee'),\n",
       "  Row(year=2019, id=55555, dept='ECE', email='junha@snu.ac.kr', name='Jun Ha Chun'),\n",
       "  Row(year=2020, id=11111, dept='ECE', email='kim@snu.ac.kr', name='Kim Kim Kim'),\n",
       "  Row(year=2020, id=33333, dept='DS', email='park@snu.ac.kr', name='Park Park Park'),\n",
       "  Row(year=2020, id=44444, dept='DS', email='simonjisu@snu.ac.kr', name='Ji Soo Jang')],\n",
       " [Row(year=2019, id=22222, dept='DS', email='lee@snu.ac.kr', name='Lee Lee Lee'),\n",
       "  Row(year=2019, id=55555, dept='ECE', email='junha@snu.ac.kr', name='Jun Ha Chun'),\n",
       "  Row(year=2020, id=11111, dept='ECE', email='kim@snu.ac.kr', name='Kim Kim Kim'),\n",
       "  Row(year=2020, id=33333, dept='DS', email='park@snu.ac.kr', name='Park Park Park'),\n",
       "  Row(year=2020, id=44444, dept='DS', email='simonjisu@snu.ac.kr', name='Ji Soo Jang')],\n",
       " [Row(year=2019, id=22222, dept='DS', email='lee@snu.ac.kr', name='Lee Lee Lee'),\n",
       "  Row(year=2019, id=55555, dept='ECE', email='junha@snu.ac.kr', name='Jun Ha Chun'),\n",
       "  Row(year=2020, id=11111, dept='ECE', email='kim@snu.ac.kr', name='Kim Kim Kim'),\n",
       "  Row(year=2020, id=33333, dept='DS', email='park@snu.ac.kr', name='Park Park Park'),\n",
       "  Row(year=2020, id=44444, dept='DS', email='simonjisu@snu.ac.kr', name='Ji Soo Jang')]]"
      ]
     },
     "execution_count": 29,
     "metadata": {},
     "output_type": "execute_result"
    }
   ],
   "source": [
    "[r.result().all() for r in responses]"
   ]
  },
  {
   "cell_type": "markdown",
   "id": "037c1178",
   "metadata": {},
   "source": [
    "![title](img/Cassandra_Tutorials_06.png)"
   ]
  },
  {
   "cell_type": "markdown",
   "id": "77716f8b",
   "metadata": {},
   "source": [
    "![title](img/Cassandra_Tutorials_07.png)"
   ]
  },
  {
   "cell_type": "markdown",
   "id": "39da2c66",
   "metadata": {},
   "source": [
    "### Primary keys\n",
    "\n",
    "- You can't query by range with partition key.\n",
    "\n",
    "- You are not recommended to query only by cluster key.\n",
    "\n",
    "- You are very not recommended to query by non primary key.\n",
    "\n",
    "- You must design query → table / primary key"
   ]
  },
  {
   "cell_type": "code",
   "execution_count": 30,
   "id": "57d10bd4",
   "metadata": {},
   "outputs": [
    {
     "ename": "InvalidRequest",
     "evalue": "Error from server: code=2200 [Invalid query] message=\"Only EQ and IN relation are supported on the partition key (unless you use the token() function)\"",
     "output_type": "error",
     "traceback": [
      "\u001b[1;31m---------------------------------------------------------------------------\u001b[0m",
      "\u001b[1;31mInvalidRequest\u001b[0m                            Traceback (most recent call last)",
      "Input \u001b[1;32mIn [30]\u001b[0m, in \u001b[0;36m<cell line: 1>\u001b[1;34m()\u001b[0m\n\u001b[1;32m----> 1\u001b[0m \u001b[43msession\u001b[49m\u001b[38;5;241;43m.\u001b[39;49m\u001b[43mexecute\u001b[49m\u001b[43m(\u001b[49m\u001b[38;5;124;43m\"\u001b[39;49m\u001b[38;5;124;43mSELECT * FROM snu.student WHERE year > 2019\u001b[39;49m\u001b[38;5;124;43m\"\u001b[39;49m\u001b[43m)\u001b[49m\u001b[38;5;241m.\u001b[39mall()\n",
      "File \u001b[1;32m~\\Anaconda3\\envs\\cass\\lib\\site-packages\\cassandra\\cluster.py:2618\u001b[0m, in \u001b[0;36mcassandra.cluster.Session.execute\u001b[1;34m()\u001b[0m\n",
      "File \u001b[1;32m~\\Anaconda3\\envs\\cass\\lib\\site-packages\\cassandra\\cluster.py:4894\u001b[0m, in \u001b[0;36mcassandra.cluster.ResponseFuture.result\u001b[1;34m()\u001b[0m\n",
      "\u001b[1;31mInvalidRequest\u001b[0m: Error from server: code=2200 [Invalid query] message=\"Only EQ and IN relation are supported on the partition key (unless you use the token() function)\""
     ]
    }
   ],
   "source": [
    "session.execute(\"SELECT * FROM snu.student WHERE year > 2019\").all()"
   ]
  },
  {
   "cell_type": "code",
   "execution_count": 33,
   "id": "c6432369",
   "metadata": {},
   "outputs": [
    {
     "ename": "InvalidRequest",
     "evalue": "Error from server: code=2200 [Invalid query] message=\"Cannot execute this query as it might involve data filtering and thus may have unpredictable performance. If you want to execute this query despite the performance unpredictability, use ALLOW FILTERING\"",
     "output_type": "error",
     "traceback": [
      "\u001b[1;31m---------------------------------------------------------------------------\u001b[0m",
      "\u001b[1;31mInvalidRequest\u001b[0m                            Traceback (most recent call last)",
      "Input \u001b[1;32mIn [33]\u001b[0m, in \u001b[0;36m<cell line: 1>\u001b[1;34m()\u001b[0m\n\u001b[1;32m----> 1\u001b[0m \u001b[43msession\u001b[49m\u001b[38;5;241;43m.\u001b[39;49m\u001b[43mexecute\u001b[49m\u001b[43m(\u001b[49m\u001b[38;5;124;43m\"\u001b[39;49m\u001b[38;5;124;43mSELECT * FROM snu.student WHERE id = 20000\u001b[39;49m\u001b[38;5;124;43m\"\u001b[39;49m\u001b[43m)\u001b[49m\u001b[38;5;241m.\u001b[39mall()\n",
      "File \u001b[1;32m~\\Anaconda3\\envs\\cass\\lib\\site-packages\\cassandra\\cluster.py:2618\u001b[0m, in \u001b[0;36mcassandra.cluster.Session.execute\u001b[1;34m()\u001b[0m\n",
      "File \u001b[1;32m~\\Anaconda3\\envs\\cass\\lib\\site-packages\\cassandra\\cluster.py:4894\u001b[0m, in \u001b[0;36mcassandra.cluster.ResponseFuture.result\u001b[1;34m()\u001b[0m\n",
      "\u001b[1;31mInvalidRequest\u001b[0m: Error from server: code=2200 [Invalid query] message=\"Cannot execute this query as it might involve data filtering and thus may have unpredictable performance. If you want to execute this query despite the performance unpredictability, use ALLOW FILTERING\""
     ]
    }
   ],
   "source": [
    "session.execute(\"SELECT * FROM snu.student WHERE id = 20000\").all()"
   ]
  },
  {
   "cell_type": "code",
   "execution_count": 31,
   "id": "be8e9d51",
   "metadata": {},
   "outputs": [
    {
     "data": {
      "text/plain": [
       "[]"
      ]
     },
     "execution_count": 31,
     "metadata": {},
     "output_type": "execute_result"
    }
   ],
   "source": [
    "session.execute(\"SELECT * FROM snu.student WHERE id = 20000 ALLOW FILTERING\").all() "
   ]
  },
  {
   "cell_type": "code",
   "execution_count": 32,
   "id": "5c9000a9",
   "metadata": {},
   "outputs": [
    {
     "data": {
      "text/plain": [
       "[]"
      ]
     },
     "execution_count": 32,
     "metadata": {},
     "output_type": "execute_result"
    }
   ],
   "source": [
    "session.execute(\"SELECT * FROM snu.student WHERE year = 2019 AND id = 20000\").all()"
   ]
  },
  {
   "cell_type": "code",
   "execution_count": 34,
   "id": "7838f6a4",
   "metadata": {},
   "outputs": [
    {
     "data": {
      "text/plain": [
       "[Row(year=2019, id=22222, dept='DS', email='lee@snu.ac.kr', name='Lee Lee Lee'),\n",
       " Row(year=2019, id=55555, dept='ECE', email='junha@snu.ac.kr', name='Jun Ha Chun')]"
      ]
     },
     "execution_count": 34,
     "metadata": {},
     "output_type": "execute_result"
    }
   ],
   "source": [
    "session.execute(\"SELECT * FROM snu.student WHERE year = 2019 AND id > 20000\").all()"
   ]
  },
  {
   "cell_type": "markdown",
   "id": "05283c5a",
   "metadata": {},
   "source": [
    "### Materialized view"
   ]
  },
  {
   "cell_type": "code",
   "execution_count": 35,
   "id": "98babf45",
   "metadata": {},
   "outputs": [
    {
     "data": {
      "text/plain": [
       "<cassandra.cluster.ResultSet at 0x1404fa5cd30>"
      ]
     },
     "execution_count": 35,
     "metadata": {},
     "output_type": "execute_result"
    }
   ],
   "source": [
    "session.execute(\n",
    "'''\n",
    "CREATE MATERIALIZED VIEW snu.student_by_name\n",
    "AS SELECT year, id, dept, email, name\n",
    "FROM snu.student\n",
    "WHERE name IS NOT NULL AND id IS NOT NULL\n",
    "PRIMARY KEY (name, year, id);\n",
    "'''\n",
    ")"
   ]
  },
  {
   "cell_type": "code",
   "execution_count": 36,
   "id": "9bb2abf2",
   "metadata": {},
   "outputs": [
    {
     "data": {
      "text/plain": [
       "[Row(name='Lee Lee Lee', year=2019, id=22222, dept='DS', email='lee@snu.ac.kr'),\n",
       " Row(name='Park Park Park', year=2020, id=33333, dept='DS', email='park@snu.ac.kr'),\n",
       " Row(name='Ji Soo Jang', year=2020, id=44444, dept='DS', email='simonjisu@snu.ac.kr'),\n",
       " Row(name='Kim Kim Kim', year=2020, id=11111, dept='ECE', email='kim@snu.ac.kr'),\n",
       " Row(name='Jun Ha Chun', year=2019, id=55555, dept='ECE', email='junha@snu.ac.kr')]"
      ]
     },
     "execution_count": 36,
     "metadata": {},
     "output_type": "execute_result"
    }
   ],
   "source": [
    "session.execute(\"SELECT * FROM snu.student_by_name\").all()"
   ]
  },
  {
   "cell_type": "markdown",
   "id": "3c2fcb74",
   "metadata": {},
   "source": [
    "#### Some more\n",
    "\n",
    "- LIMIT\n",
    "- ORDER BY\n",
    "- AS\n",
    "- IN\n",
    "- Secondary index (not recommended)"
   ]
  },
  {
   "cell_type": "code",
   "execution_count": 37,
   "id": "59017d2e",
   "metadata": {},
   "outputs": [
    {
     "data": {
      "text/plain": [
       "[Row(year=2019, id=22222, dept='DS', email='lee@snu.ac.kr', name='Lee Lee Lee'),\n",
       " Row(year=2019, id=55555, dept='ECE', email='junha@snu.ac.kr', name='Jun Ha Chun'),\n",
       " Row(year=2020, id=11111, dept='ECE', email='kim@snu.ac.kr', name='Kim Kim Kim')]"
      ]
     },
     "execution_count": 37,
     "metadata": {},
     "output_type": "execute_result"
    }
   ],
   "source": [
    "session.execute(\"SELECT * FROM snu.student LIMIT 3\").all()"
   ]
  },
  {
   "cell_type": "code",
   "execution_count": 38,
   "id": "734d2225",
   "metadata": {},
   "outputs": [
    {
     "data": {
      "text/plain": [
       "[Row(year=2020, id=44444, dept='DS', email='simonjisu@snu.ac.kr', name='Ji Soo Jang'),\n",
       " Row(year=2020, id=33333, dept='DS', email='park@snu.ac.kr', name='Park Park Park'),\n",
       " Row(year=2020, id=11111, dept='ECE', email='kim@snu.ac.kr', name='Kim Kim Kim')]"
      ]
     },
     "execution_count": 38,
     "metadata": {},
     "output_type": "execute_result"
    }
   ],
   "source": [
    "session.execute(\"SELECT * FROM snu.student WHERE year = 2020 ORDER BY id DESC\").all()"
   ]
  },
  {
   "cell_type": "code",
   "execution_count": 39,
   "id": "d133e16a",
   "metadata": {},
   "outputs": [
    {
     "data": {
      "text/plain": [
       "[Row(year=2019, id=22222, department='DS'),\n",
       " Row(year=2019, id=55555, department='ECE'),\n",
       " Row(year=2020, id=11111, department='ECE'),\n",
       " Row(year=2020, id=33333, department='DS'),\n",
       " Row(year=2020, id=44444, department='DS')]"
      ]
     },
     "execution_count": 39,
     "metadata": {},
     "output_type": "execute_result"
    }
   ],
   "source": [
    "session.execute(\"SELECT year, id, dept AS department FROM snu.student\").all()"
   ]
  },
  {
   "cell_type": "code",
   "execution_count": 40,
   "id": "e0bea8bf",
   "metadata": {},
   "outputs": [
    {
     "data": {
      "text/plain": [
       "[Row(year=2019, id=22222, dept='DS', email='lee@snu.ac.kr', name='Lee Lee Lee'),\n",
       " Row(year=2019, id=55555, dept='ECE', email='junha@snu.ac.kr', name='Jun Ha Chun'),\n",
       " Row(year=2020, id=11111, dept='ECE', email='kim@snu.ac.kr', name='Kim Kim Kim'),\n",
       " Row(year=2020, id=33333, dept='DS', email='park@snu.ac.kr', name='Park Park Park'),\n",
       " Row(year=2020, id=44444, dept='DS', email='simonjisu@snu.ac.kr', name='Ji Soo Jang')]"
      ]
     },
     "execution_count": 40,
     "metadata": {},
     "output_type": "execute_result"
    }
   ],
   "source": [
    "session.execute(\"SELECT * FROM snu.student WHERE year IN (2019, 2020)\").all()"
   ]
  },
  {
   "cell_type": "code",
   "execution_count": 41,
   "id": "7e23ee6a",
   "metadata": {},
   "outputs": [
    {
     "data": {
      "text/plain": [
       "<cassandra.cluster.ResultSet at 0x1404fe500d0>"
      ]
     },
     "execution_count": 41,
     "metadata": {},
     "output_type": "execute_result"
    }
   ],
   "source": [
    "session.execute(\"CREATE INDEX student_by_email ON snu.student (email)\")"
   ]
  },
  {
   "cell_type": "code",
   "execution_count": 42,
   "id": "3da5eb18",
   "metadata": {},
   "outputs": [
    {
     "data": {
      "text/plain": [
       "[Row(year=2019, id=55555, dept='ECE', email='junha@snu.ac.kr', name='Jun Ha Chun')]"
      ]
     },
     "execution_count": 42,
     "metadata": {},
     "output_type": "execute_result"
    }
   ],
   "source": [
    "session.execute(\"SELECT * FROM snu.student WHERE email = 'junha@snu.ac.kr'\").all()"
   ]
  },
  {
   "cell_type": "markdown",
   "id": "8169fb70",
   "metadata": {},
   "source": [
    "#### Some more 2\n",
    "\n",
    "- Referential integrity\n",
    "- Join\n",
    "- Bulk insertion"
   ]
  },
  {
   "cell_type": "code",
   "execution_count": 43,
   "id": "6e4828d4",
   "metadata": {},
   "outputs": [
    {
     "data": {
      "text/plain": [
       "<cassandra.cluster.ResultSet at 0x1404e493a00>"
      ]
     },
     "execution_count": 43,
     "metadata": {},
     "output_type": "execute_result"
    }
   ],
   "source": [
    "# Keyspace = Database\n",
    "session.execute(\n",
    "'''                \n",
    "CREATE TABLE snu.BKMS2 ( \n",
    "    year int,\n",
    "    id int,\n",
    "    name text, \n",
    "    grade text,\n",
    "    PRIMARY KEY (year, id)\n",
    ") WITH CLUSTERING ORDER BY (id ASC)\n",
    "'''\n",
    ")"
   ]
  },
  {
   "cell_type": "code",
   "execution_count": 44,
   "id": "25a7ec38",
   "metadata": {},
   "outputs": [
    {
     "data": {
      "text/plain": [
       "<cassandra.cluster.ResultSet at 0x140504857f0>"
      ]
     },
     "execution_count": 44,
     "metadata": {},
     "output_type": "execute_result"
    }
   ],
   "source": [
    "session.execute(\n",
    "'''\n",
    "INSERT INTO snu.BKMS2 (year, id, name, grade)\n",
    "  VALUES(2019, 55555, 'Jun Ha Chun', 'A');\n",
    "'''\n",
    ")\n",
    "session.execute(\n",
    "'''\n",
    "INSERT INTO snu.BKMS2 (year, id, name, grade)\n",
    "  VALUES(2020, 44444, 'Ji Soo Jang', 'A');\n",
    "'''\n",
    ")\n",
    "session.execute(\n",
    "'''\n",
    "INSERT INTO snu.BKMS2 (year, id, name, grade)\n",
    "  VALUES(2021, 88888, 'Choi Choi Choi', 'C');\n",
    "'''\n",
    ")\n",
    "session.execute(\n",
    "'''\n",
    "INSERT INTO snu.BKMS2 (year, id, name, grade)\n",
    "  VALUES(2020, 6666, 'Jung Jung Jung', 'B');\n",
    "'''\n",
    ")"
   ]
  },
  {
   "cell_type": "code",
   "execution_count": 45,
   "id": "7ba82be7",
   "metadata": {},
   "outputs": [
    {
     "data": {
      "text/plain": [
       "<cassandra.cluster.ResultSet at 0x140504855e0>"
      ]
     },
     "execution_count": 45,
     "metadata": {},
     "output_type": "execute_result"
    }
   ],
   "source": [
    "session.execute(\n",
    "'''   \n",
    "BEGIN BATCH\n",
    "  DELETE FROM snu.student WHERE year = 2019 AND id = 55555\n",
    "  DELETE FROM snu.BKMS2 WHERE year = 2019 AND id = 55555\n",
    "APPLY BATCH\n",
    "'''\n",
    ")"
   ]
  },
  {
   "cell_type": "code",
   "execution_count": 46,
   "id": "13ab7f36",
   "metadata": {},
   "outputs": [
    {
     "data": {
      "text/plain": [
       "[Row(year=2020, id=44444, grade='A', name='Ji Soo Jang')]"
      ]
     },
     "execution_count": 46,
     "metadata": {},
     "output_type": "execute_result"
    }
   ],
   "source": [
    "rows = session.execute(\"SELECT * FROM snu.student WHERE year = 2020\").all()\n",
    "join = []\n",
    "for row in rows:\n",
    "    result = session.execute(\"SELECT * FROM snu.BKMS2 WHERE year = {} AND id = {}\".format(row.year, row.id)).one()\n",
    "    if result:\n",
    "        join.append(result)\n",
    "join"
   ]
  },
  {
   "cell_type": "code",
   "execution_count": 47,
   "id": "13184509",
   "metadata": {},
   "outputs": [
    {
     "data": {
      "text/plain": [
       "<cassandra.cluster.ResultSet at 0x1404fa66760>"
      ]
     },
     "execution_count": 47,
     "metadata": {},
     "output_type": "execute_result"
    }
   ],
   "source": [
    "session.execute(\n",
    "'''                \n",
    "CREATE TABLE snu.lecture_student ( \n",
    "    year int,\n",
    "    id int,\n",
    "    name text, \n",
    "    dept text, \n",
    "    email text,\n",
    "    lecture text,\n",
    "    grade text,\n",
    "    PRIMARY KEY (year, id)\n",
    ") WITH CLUSTERING ORDER BY (id ASC)\n",
    "'''\n",
    ")"
   ]
  },
  {
   "cell_type": "markdown",
   "id": "805d7241",
   "metadata": {},
   "source": [
    "#### Bulk insertion\n",
    "\n",
    "- Cassandra tools\n",
    "\n",
    "`sstableloader --nodes [ip] [path to the sstable backup file]`\n",
    "\n",
    "- cqlsh https://docs.datastax.com/en/cql-oss/3.3/cql/cql_reference/cqlshCopy.html?hl=copy\n",
    "\n",
    "`COPY [table_name] (columns, ) TO [path] WITH HEADER = TRUE/FALSE;`\n",
    "\n",
    "`COPY [table_name] (columns, ) FROM [path] WITH HEADER = TRUE/FALSE;`\n",
    "\n",
    "- Python driver\n",
    "\n",
    "use asynchronous insert queries\n",
    "\n",
    "or try https://docs.datastax.com/en/dsbulk/docs/reference/dsbulkCmd.html"
   ]
  },
  {
   "cell_type": "code",
   "execution_count": 48,
   "id": "23caebf2",
   "metadata": {},
   "outputs": [],
   "source": [
    "# in sqlsh\n",
    "# export\n",
    "# COPY snu.student TO './data_export.csv' WITH HEADER = FALSE;\n",
    "# import\n",
    "# COPY snu.student FROM './data_export.csv' WITH HEADER = FALSE;"
   ]
  },
  {
   "cell_type": "code",
   "execution_count": 49,
   "id": "67519fdc",
   "metadata": {},
   "outputs": [],
   "source": [
    "responses = []\n",
    "with open(\"./data.csv\", \"r\") as f:\n",
    "    # next(f) # for skipping header\n",
    "    for row in f:\n",
    "        row = row.split(\",\")\n",
    "        response = session.execute_async(\"INSERT INTO snu.student (year, id, name, dept, email) VALUES ({}, {}, {}, {}, {})\"\\\n",
    "                                       .format(row[0], row[1], row[2], row[3], row[4]))\n",
    "        responses.append(response)"
   ]
  },
  {
   "cell_type": "code",
   "execution_count": 50,
   "id": "00da3a93",
   "metadata": {},
   "outputs": [
    {
     "data": {
      "text/plain": [
       "<ResponseFuture: query='<SimpleStatement query=\"INSERT INTO snu.student (year, id, name, dept, email) VALUES (2019,  55555,  'Jun Ha Chun',  'ECE',  'nikriz@snu.ac.kr')\", consistency=Not Set>' request_id=124 result=None exception=None coordinator_host=127.0.0.1:9042>"
      ]
     },
     "execution_count": 50,
     "metadata": {},
     "output_type": "execute_result"
    }
   ],
   "source": [
    "responses[0]"
   ]
  },
  {
   "cell_type": "markdown",
   "id": "6b7dc76e",
   "metadata": {},
   "source": [
    "### Distributed Setting\n",
    "- Docker\n",
    "\n",
    "```\n",
    "docker run --name cassandra-1 -p 9042:9042 -d cassandra:3.0\n",
    "$INSTANCE1=$(docker inspect --format=\"{{ .NetworkSettings.IPAddress }}\" cassandra-1)\n",
    "echo \"Instance 1: ${INSTANCE1}\"\n",
    "\n",
    "docker run --name cassandra-2 -p 9043:9042 -d -e CASSANDRA_SEEDS=$INSTANCE1 cassandra:3.0\n",
    "$INSTANCE2=$(docker inspect --format=\"{{ .NetworkSettings.IPAddress }}\" cassandra-2)\n",
    "echo \"Instance 2: ${INSTANCE2}\"\n",
    "echo \"Wait 60s until the second node joins the cluster\"\n",
    "sleep 60\n",
    "\n",
    "docker run --name cassandra-3 -p 9044:9042 -d -e CASSANDRA_SEEDS=$INSTANCE1,$INSTANCE2 cassandra:3.0\n",
    "$INSTANCE3=$(docker inspect --format=\"{{ .NetworkSettings.IPAddress }}\" cassandra-3)\n",
    "\n",
    "docker exec cassandra-3 nodetool status\n",
    "\n",
    "docker exec -it cassandra-1 cqlsh\n",
    "```\n",
    "\n",
    "- Astra\n",
    "\n",
    "follow instructions from https://astra.datastax.com/register and you will get to create keyspace there\n",
    "\n",
    "save key dictionary to `./key.txt`\n",
    "\n",
    "download SCB to `./` (Your database - connect - python - download bundle)\n",
    "\n",
    "(If you want, you can use other connection methods for your implementation)\n",
    "\n",
    "*nodetool, materialized views are not supported\n",
    "\n",
    "*Free $25 credit / month"
   ]
  },
  {
   "cell_type": "markdown",
   "id": "c29abdeb",
   "metadata": {},
   "source": [
    "![title](img/Astra_01.png)"
   ]
  },
  {
   "cell_type": "code",
   "execution_count": 51,
   "id": "04f2e892",
   "metadata": {},
   "outputs": [
    {
     "data": {
      "text/plain": [
       "Row(release_version='4.0.0.6816')"
      ]
     },
     "execution_count": 51,
     "metadata": {},
     "output_type": "execute_result"
    }
   ],
   "source": [
    "from cassandra.auth import PlainTextAuthProvider\n",
    "import json\n",
    "\n",
    "key = {}\n",
    "with open('key.txt') as f:\n",
    "    key = json.load(f)\n",
    "\n",
    "cloud_config= {\n",
    "        'secure_connect_bundle': './secure-connect-cassandra-tutorial.zip' # modify with your bundle file name\n",
    "}\n",
    "auth_provider = PlainTextAuthProvider(key['clientID'], key['clientSecret'])\n",
    "cluster = Cluster(cloud=cloud_config, auth_provider=auth_provider)\n",
    "session = cluster.connect()\n",
    "\n",
    "session.execute(\"select release_version from system.local\").one()"
   ]
  },
  {
   "cell_type": "code",
   "execution_count": 52,
   "id": "bd33cc96",
   "metadata": {},
   "outputs": [
    {
     "data": {
      "text/plain": [
       "[Row(peer='172.24.35.2', data_center='asia-south1', dse_version=None, graph=None, host_id=UUID('b89edb89-3de0-4228-8046-499e8a4a2e75'), jmx_port=7199, native_transport_address='172.24.35.2', native_transport_port=29042, native_transport_port_ssl=None, preferred_ip='172.24.35.2', rack='rack1', release_version='4.0.0.6816', rpc_address='172.24.35.2', schema_version=UUID('ed9c7d5a-52a8-3ca1-a3da-7b3e59928b2a'), server_id=None, storage_port=7000, storage_port_ssl=7001, tokens=SortedSet(['-3973216027162921237', '-4824212584856678155', '-5641161138316102174', '-6076354814903314155', '-7880102670609790399', '4513513936355413163', '666993213066548225', '7146936265093438770']), workload=None, workloads=None),\n",
       " Row(peer='172.24.26.2', data_center='asia-south1', dse_version=None, graph=None, host_id=UUID('36491cd1-63ba-428b-85a2-1c08c1c6a661'), jmx_port=7199, native_transport_address='172.24.26.2', native_transport_port=29042, native_transport_port_ssl=None, preferred_ip='172.24.26.2', rack='rack2', release_version='4.0.0.6816', rpc_address='172.24.26.2', schema_version=UUID('ed9c7d5a-52a8-3ca1-a3da-7b3e59928b2a'), server_id=None, storage_port=7000, storage_port_ssl=7001, tokens=SortedSet(['-5845358291018267409', '-8687270984835076363', '-8761629417644441205', '4440609973447132628', '4646775801657084829', '6276783406789818903', '6282948122792317855', '8449097805740173850']), workload=None, workloads=None)]"
      ]
     },
     "execution_count": 52,
     "metadata": {},
     "output_type": "execute_result"
    }
   ],
   "source": [
    "session.execute(\"SELECT * FROM system.peers\").all()"
   ]
  },
  {
   "cell_type": "code",
   "execution_count": 55,
   "id": "fa30a6ee",
   "metadata": {},
   "outputs": [
    {
     "data": {
      "text/plain": [
       "<cassandra.cluster.ResultSet at 0x1404fa11fa0>"
      ]
     },
     "execution_count": 55,
     "metadata": {},
     "output_type": "execute_result"
    }
   ],
   "source": [
    "# Drop all incase you run this again\n",
    "session.execute(\"DROP TABLE IF EXISTS snu.student\")"
   ]
  },
  {
   "cell_type": "markdown",
   "id": "4542e5ca",
   "metadata": {},
   "source": [
    "### Replication Factor\n"
   ]
  },
  {
   "cell_type": "markdown",
   "id": "2eb53c8d",
   "metadata": {},
   "source": [
    "![title](img/Lecture_01.png)"
   ]
  },
  {
   "cell_type": "code",
   "execution_count": 56,
   "id": "fd09496f",
   "metadata": {},
   "outputs": [
    {
     "data": {
      "text/plain": [
       "\"\\nsession.execute(\\n'''\\nCREATE KEYSPACE snu\\n  WITH REPLICATION = { \\n   'class' : 'NetworkTopologyStrategy',\\n   'datacenter1' : 3 \\n  };\\n'''\\n)\\n\""
      ]
     },
     "execution_count": 56,
     "metadata": {},
     "output_type": "execute_result"
    }
   ],
   "source": [
    "# Keyspace is already created at Astra dashboard\n",
    "\"\"\"\n",
    "session.execute(\n",
    "'''\n",
    "CREATE KEYSPACE snu\n",
    "  WITH REPLICATION = { \n",
    "   'class' : 'NetworkTopologyStrategy',\n",
    "   'datacenter1' : 3 \n",
    "  };\n",
    "'''\n",
    ")\n",
    "\"\"\""
   ]
  },
  {
   "cell_type": "code",
   "execution_count": 57,
   "id": "8209da18",
   "metadata": {},
   "outputs": [
    {
     "data": {
      "text/plain": [
       "[Row(keyspace_name='snu', durable_writes=True, graph_engine=None, replication=OrderedMapSerializedKey([('asia-south1', '3'), ('class', 'org.apache.cassandra.locator.NetworkTopologyStrategy')]))]"
      ]
     },
     "execution_count": 57,
     "metadata": {},
     "output_type": "execute_result"
    }
   ],
   "source": [
    "session.execute(\"SELECT * FROM system_schema.keyspaces WHERE keyspace_name = 'snu'\").all()"
   ]
  },
  {
   "cell_type": "code",
   "execution_count": 58,
   "id": "6341eeae",
   "metadata": {},
   "outputs": [
    {
     "data": {
      "text/plain": [
       "<cassandra.cluster.ResultSet at 0x140504a6850>"
      ]
     },
     "execution_count": 58,
     "metadata": {},
     "output_type": "execute_result"
    }
   ],
   "source": [
    "session.execute(\n",
    "'''                \n",
    "CREATE TABLE snu.student ( \n",
    "    year int,\n",
    "    id int,\n",
    "    name text, \n",
    "    dept text, \n",
    "    email text,\n",
    "    PRIMARY KEY (year, id)\n",
    ") WITH CLUSTERING ORDER BY (id ASC)\n",
    "'''\n",
    ")"
   ]
  },
  {
   "cell_type": "code",
   "execution_count": 59,
   "id": "d7e6104a",
   "metadata": {},
   "outputs": [
    {
     "data": {
      "text/plain": [
       "<cassandra.cluster.ResultSet at 0x14050530970>"
      ]
     },
     "execution_count": 59,
     "metadata": {},
     "output_type": "execute_result"
    }
   ],
   "source": [
    "session.execute(\n",
    "'''\n",
    "INSERT INTO snu.student (year, id, name, dept, email)\n",
    "  VALUES(2019, 55555, 'Jun Ha Chun', 'ECE', 'nikriz@snu.ac.kr');\n",
    "'''\n",
    ")\n",
    "session.execute(\n",
    "'''\n",
    "INSERT INTO snu.student (year, id, name, dept, email)\n",
    "  VALUES(2020, 44444, 'Ji Soo Jang', 'DS', 'simonjisu@snu.ac.kr');\n",
    "'''\n",
    ")\n",
    "session.execute(\n",
    "'''\n",
    "INSERT INTO snu.student (year, id, name, dept, email)\n",
    "  VALUES(2020, 11111, 'Kim Kim Kim', 'ECE', 'kim@snu.ac.kr');\n",
    "'''\n",
    ")\n",
    "session.execute(\n",
    "'''\n",
    "INSERT INTO snu.student (year, id, name, dept, email)\n",
    "  VALUES(2019, 22222, 'Lee Lee Lee', 'DS', 'lee@snu.ac.kr');\n",
    "'''\n",
    ")\n",
    "session.execute(\n",
    "'''\n",
    "INSERT INTO snu.student (year, id, name, dept, email)\n",
    "  VALUES(2020, 33333, 'Park Park Park', 'DS', 'park@snu.ac.kr');\n",
    "'''\n",
    ")"
   ]
  },
  {
   "cell_type": "markdown",
   "id": "7cb66c53",
   "metadata": {},
   "source": [
    "### Consistency"
   ]
  },
  {
   "cell_type": "markdown",
   "id": "9afc4caa",
   "metadata": {},
   "source": [
    "![title](img/Consistency.png)"
   ]
  },
  {
   "cell_type": "code",
   "execution_count": 60,
   "id": "5dc66e9a",
   "metadata": {},
   "outputs": [],
   "source": [
    "# CQL shell command\n",
    "# You can run them in Astra dashboard CQL console\n",
    "# CONSISTENCY\n",
    "# CONSISTENCY ALL\n",
    "# CONSISTENCY ONE"
   ]
  },
  {
   "cell_type": "code",
   "execution_count": 61,
   "id": "5ef069d9",
   "metadata": {},
   "outputs": [],
   "source": [
    "from cassandra import ConsistencyLevel\n",
    "from cassandra.query import SimpleStatement\n",
    "from cassandra.cluster import ExecutionProfile, EXEC_PROFILE_DEFAULT\n",
    "\n",
    "profile = ExecutionProfile(\n",
    "    consistency_level=ConsistencyLevel.ALL\n",
    ")\n",
    "cluster = Cluster(execution_profiles={EXEC_PROFILE_DEFAULT: profile})\n",
    "session = cluster.connect()"
   ]
  },
  {
   "cell_type": "code",
   "execution_count": 62,
   "id": "9df9bce1",
   "metadata": {},
   "outputs": [
    {
     "data": {
      "text/plain": [
       "[Row(year=2019, id=22222, dept='DS', email='lee@snu.ac.kr', name='Lee Lee Lee'),\n",
       " Row(year=2019, id=55555, dept='ECE', email='nikriz@snu.ac.kr', name='Jun Ha Chun'),\n",
       " Row(year=2020, id=11111, dept='ECE', email='kim@snu.ac.kr', name='Kim Kim Kim'),\n",
       " Row(year=2020, id=33333, dept='DS', email='park@snu.ac.kr', name='Park Park Park'),\n",
       " Row(year=2020, id=44444, dept='DS', email='simonjisu@snu.ac.kr', name='Ji Soo Jang')]"
      ]
     },
     "execution_count": 62,
     "metadata": {},
     "output_type": "execute_result"
    }
   ],
   "source": [
    "query = SimpleStatement(\"SELECT * FROM snu.student\",\n",
    "    consistency_level=ConsistencyLevel.ALL)\n",
    "session.execute(query).all()"
   ]
  },
  {
   "cell_type": "markdown",
   "id": "7f5d7138",
   "metadata": {},
   "source": [
    "#### Installation\n",
    "\n",
    "https://phoenixnap.com/kb/install-cassandra-on-windows\n",
    "\n",
    "#### Materials\n",
    "\n",
    "https://docs.datastax.com/en/cql-oss/3.3/index.html\n",
    "\n",
    "https://cassandra.apache.org/doc/latest/cassandra/tools/cqlsh.html\n",
    "\n",
    "https://docs.datastax.com/en/developer/python-driver/3.25/getting_started/\n",
    "\n",
    "https://www.freecodecamp.org/news/the-apache-cassandra-beginner-tutorial/\n"
   ]
  },
  {
   "cell_type": "code",
   "execution_count": null,
   "id": "15849ae8",
   "metadata": {},
   "outputs": [],
   "source": []
  }
 ],
 "metadata": {
  "kernelspec": {
   "display_name": "Python 3 (ipykernel)",
   "language": "python",
   "name": "python3"
  },
  "language_info": {
   "codemirror_mode": {
    "name": "ipython",
    "version": 3
   },
   "file_extension": ".py",
   "mimetype": "text/x-python",
   "name": "python",
   "nbconvert_exporter": "python",
   "pygments_lexer": "ipython3",
   "version": "3.8.13"
  }
 },
 "nbformat": 4,
 "nbformat_minor": 5
}
