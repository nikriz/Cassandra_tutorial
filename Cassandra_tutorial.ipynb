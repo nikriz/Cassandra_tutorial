{
 "cells": [
  {
   "cell_type": "markdown",
   "id": "7ea8ea51",
   "metadata": {},
   "source": [
    "# Cassandra & CQL Guide\n",
    "\n",
    "We will use python 3.8 + Datastax driver and this jupyter notebook to run the codes (for convenience)"
   ]
  },
  {
   "cell_type": "markdown",
   "id": "4717e4cf",
   "metadata": {},
   "source": [
    "![title](./img/Cassandra_Tutorials_02.png)"
   ]
  },
  {
   "cell_type": "markdown",
   "id": "f1fa8e78",
   "metadata": {},
   "source": [
    "![title](./img/Cassandra_Tutorials_03.png)"
   ]
  },
  {
   "cell_type": "markdown",
   "id": "90fc65f5",
   "metadata": {},
   "source": [
    "![title](./img/Cassandra_Tutorials_04.png)"
   ]
  },
  {
   "cell_type": "markdown",
   "id": "277f3d12",
   "metadata": {},
   "source": [
    "![title](./img/Cassandra_Tutorials_05.png)"
   ]
  },
  {
   "cell_type": "markdown",
   "id": "43a7215d",
   "metadata": {},
   "source": [
    "### Initalization\n",
    "\n",
    "Run `cassandra` on cmd / terminal (single node)"
   ]
  },
  {
   "cell_type": "code",
   "execution_count": 1,
   "id": "df730692",
   "metadata": {},
   "outputs": [],
   "source": [
    "from cassandra.cluster import Cluster\n",
    "\n",
    "cluster = Cluster(port=9042)\n",
    "session = cluster.connect()"
   ]
  },
  {
   "cell_type": "code",
   "execution_count": 2,
   "id": "0c3ee2d0",
   "metadata": {},
   "outputs": [
    {
     "data": {
      "text/plain": [
       "[Row(release_version='3.0.27')]"
      ]
     },
     "execution_count": 2,
     "metadata": {},
     "output_type": "execute_result"
    }
   ],
   "source": [
    "session.execute(\"select release_version from system.local\").all()"
   ]
  },
  {
   "cell_type": "code",
   "execution_count": 3,
   "id": "9b757a01",
   "metadata": {},
   "outputs": [
    {
     "data": {
      "text/plain": [
       "<cassandra.cluster.ResultSet at 0x1fa7e0d02b0>"
      ]
     },
     "execution_count": 3,
     "metadata": {},
     "output_type": "execute_result"
    }
   ],
   "source": [
    "# Drop all incase you run this again\n",
    "session.execute(\"TRUNCATE TABLE snu.student\")\n",
    "session.execute(\"DROP TABLE snu.student\")\n",
    "session.execute(\"DROP KEYSPACE snu\")"
   ]
  },
  {
   "cell_type": "code",
   "execution_count": 4,
   "id": "7a413ce8",
   "metadata": {},
   "outputs": [
    {
     "data": {
      "text/plain": [
       "[Row(keyspace_name='system_auth'),\n",
       " Row(keyspace_name='system_schema'),\n",
       " Row(keyspace_name='system_distributed'),\n",
       " Row(keyspace_name='system'),\n",
       " Row(keyspace_name='system_traces')]"
      ]
     },
     "execution_count": 4,
     "metadata": {},
     "output_type": "execute_result"
    }
   ],
   "source": [
    "session.execute(\"SELECT keyspace_name FROM system_schema.keyspaces\").all()"
   ]
  },
  {
   "cell_type": "code",
   "execution_count": 5,
   "id": "e331ebce",
   "metadata": {},
   "outputs": [
    {
     "name": "stdout",
     "output_type": "stream",
     "text": [
      "Datacenter: datacenter1\n",
      "========================\n",
      "Status=Up/Down\n",
      "|/ State=Normal/Leaving/Joining/Moving\n",
      "--  Address    Load       Tokens       Owns (effective)  Host ID                               Rack\n",
      "UN  127.0.0.1  191.77 KB  256          100.0%            dbc99623-ab6e-4807-9b9d-68f141db7221  rack1\n",
      "\n"
     ]
    }
   ],
   "source": [
    "!nodetool status"
   ]
  },
  {
   "cell_type": "markdown",
   "id": "585e17ff",
   "metadata": {},
   "source": [
    "### Basic queries"
   ]
  },
  {
   "cell_type": "markdown",
   "id": "f0b9801f",
   "metadata": {},
   "source": [
    "#### Create Keyspace"
   ]
  },
  {
   "cell_type": "code",
   "execution_count": 6,
   "id": "27effab1",
   "metadata": {},
   "outputs": [
    {
     "data": {
      "text/plain": [
       "<cassandra.cluster.ResultSet at 0x1fa7dcddac0>"
      ]
     },
     "execution_count": 6,
     "metadata": {},
     "output_type": "execute_result"
    }
   ],
   "source": [
    "# Keyspace = Database\n",
    "session.execute(\n",
    "'''\n",
    "CREATE KEYSPACE snu \n",
    "    WITH REPLICATION = { \n",
    "        'class' : 'SimpleStrategy', \n",
    "        'replication_factor' : 1\n",
    "        } \n",
    "'''\n",
    ")"
   ]
  },
  {
   "cell_type": "markdown",
   "id": "ba2ee391",
   "metadata": {},
   "source": [
    "#### Create Table"
   ]
  },
  {
   "cell_type": "code",
   "execution_count": 7,
   "id": "0ee33e8c",
   "metadata": {},
   "outputs": [
    {
     "data": {
      "text/plain": [
       "<cassandra.cluster.ResultSet at 0x1fa7e08f040>"
      ]
     },
     "execution_count": 7,
     "metadata": {},
     "output_type": "execute_result"
    }
   ],
   "source": [
    "# Keyspace = Database\n",
    "session.execute(\n",
    "'''                \n",
    "CREATE TABLE snu.student ( \n",
    "    year int,\n",
    "    id int,\n",
    "    name text, \n",
    "    dept text, \n",
    "    email text,\n",
    "    PRIMARY KEY (year, id)\n",
    ") WITH CLUSTERING ORDER BY (id ASC)\n",
    "'''\n",
    ")"
   ]
  },
  {
   "cell_type": "code",
   "execution_count": 8,
   "id": "2cc6c126",
   "metadata": {},
   "outputs": [
    {
     "data": {
      "text/plain": [
       "[Row(keyspace_name='system_auth'),\n",
       " Row(keyspace_name='system_schema'),\n",
       " Row(keyspace_name='snu'),\n",
       " Row(keyspace_name='system_distributed'),\n",
       " Row(keyspace_name='system'),\n",
       " Row(keyspace_name='system_traces')]"
      ]
     },
     "execution_count": 8,
     "metadata": {},
     "output_type": "execute_result"
    }
   ],
   "source": [
    "session.execute(\"SELECT keyspace_name FROM system_schema.keyspaces\").all()"
   ]
  },
  {
   "cell_type": "code",
   "execution_count": 9,
   "id": "c187a6b5",
   "metadata": {},
   "outputs": [
    {
     "data": {
      "text/plain": [
       "[Row(table_name='student')]"
      ]
     },
     "execution_count": 9,
     "metadata": {},
     "output_type": "execute_result"
    }
   ],
   "source": [
    "session.execute(\"SELECT table_name FROM system_schema.tables WHERE keyspace_name = 'snu'\").all()"
   ]
  },
  {
   "cell_type": "code",
   "execution_count": 10,
   "id": "746cd0f1",
   "metadata": {},
   "outputs": [
    {
     "data": {
      "text/plain": [
       "[Row(keyspace_name='snu', table_name='student', column_name='dept', clustering_order='none', column_name_bytes=b'dept', kind='regular', position=-1, type='text'),\n",
       " Row(keyspace_name='snu', table_name='student', column_name='email', clustering_order='none', column_name_bytes=b'email', kind='regular', position=-1, type='text'),\n",
       " Row(keyspace_name='snu', table_name='student', column_name='id', clustering_order='asc', column_name_bytes=b'id', kind='clustering', position=0, type='int'),\n",
       " Row(keyspace_name='snu', table_name='student', column_name='name', clustering_order='none', column_name_bytes=b'name', kind='regular', position=-1, type='text'),\n",
       " Row(keyspace_name='snu', table_name='student', column_name='year', clustering_order='none', column_name_bytes=b'year', kind='partition_key', position=0, type='int')]"
      ]
     },
     "execution_count": 10,
     "metadata": {},
     "output_type": "execute_result"
    }
   ],
   "source": [
    "session.execute(\n",
    "'''\n",
    "SELECT * FROM system_schema.columns\n",
    "WHERE keyspace_name = 'snu' AND table_name = 'student';\n",
    "'''\n",
    ").all()"
   ]
  },
  {
   "cell_type": "markdown",
   "id": "f1b4b8bb",
   "metadata": {},
   "source": [
    "#### Insert records into the table"
   ]
  },
  {
   "cell_type": "code",
   "execution_count": 11,
   "id": "78d053c3",
   "metadata": {},
   "outputs": [
    {
     "data": {
      "text/plain": [
       "<cassandra.cluster.ResultSet at 0x1fa7e0f22e0>"
      ]
     },
     "execution_count": 11,
     "metadata": {},
     "output_type": "execute_result"
    }
   ],
   "source": [
    "# Inserts need primary keys\n",
    "session.execute(\n",
    "'''\n",
    "INSERT INTO snu.student (year, id, name, dept, email)\n",
    "  VALUES(2019, 55555, 'Jun Ha Chun', 'ECE', 'nikriz@snu.ac.kr');\n",
    "'''\n",
    ")\n",
    "session.execute(\n",
    "'''\n",
    "INSERT INTO snu.student (year, id, name, dept, email)\n",
    "  VALUES(2020, 44444, 'Ji Soo Jang', 'DS', 'simonjisu@snu.ac.kr');\n",
    "'''\n",
    ")\n",
    "session.execute(\n",
    "'''\n",
    "INSERT INTO snu.student (year, id, name, dept, email)\n",
    "  VALUES(2020, 11111, 'Kim Kim Kim', 'ECE', 'kim@snu.ac.kr');\n",
    "'''\n",
    ")\n",
    "session.execute(\n",
    "'''\n",
    "INSERT INTO snu.student (year, id, name, dept, email)\n",
    "  VALUES(2019, 22222, 'Lee Lee Lee', 'DS', 'lee@snu.ac.kr');\n",
    "'''\n",
    ")\n",
    "session.execute(\n",
    "'''\n",
    "INSERT INTO snu.student (year, id, name, dept, email)\n",
    "  VALUES(2020, 33333, 'Park Park Park', 'DS', 'park@snu.ac.kr');\n",
    "'''\n",
    ")"
   ]
  },
  {
   "cell_type": "code",
   "execution_count": 12,
   "id": "1decf062",
   "metadata": {},
   "outputs": [
    {
     "data": {
      "text/plain": [
       "[Row(year=2019, id=22222, dept='DS', email='lee@snu.ac.kr', name='Lee Lee Lee'),\n",
       " Row(year=2019, id=55555, dept='ECE', email='nikriz@snu.ac.kr', name='Jun Ha Chun'),\n",
       " Row(year=2020, id=11111, dept='ECE', email='kim@snu.ac.kr', name='Kim Kim Kim'),\n",
       " Row(year=2020, id=33333, dept='DS', email='park@snu.ac.kr', name='Park Park Park'),\n",
       " Row(year=2020, id=44444, dept='DS', email='simonjisu@snu.ac.kr', name='Ji Soo Jang')]"
      ]
     },
     "execution_count": 12,
     "metadata": {},
     "output_type": "execute_result"
    }
   ],
   "source": [
    "session.execute(\"SELECT * FROM snu.student\").all()"
   ]
  },
  {
   "cell_type": "code",
   "execution_count": 13,
   "id": "2cd1b4ed",
   "metadata": {},
   "outputs": [
    {
     "data": {
      "text/plain": [
       "<cassandra.cluster.ResultSet at 0x1fa7e06b940>"
      ]
     },
     "execution_count": 13,
     "metadata": {},
     "output_type": "execute_result"
    }
   ],
   "source": [
    "session.execute(\n",
    "'''\n",
    "UPDATE snu.student\n",
    "SET email = 'junha@snu.ac.kr'\n",
    "WHERE year=2019 AND id = 55555 IF EXISTS;\n",
    "'''\n",
    ")"
   ]
  },
  {
   "cell_type": "code",
   "execution_count": 14,
   "id": "5b4ee4f9",
   "metadata": {},
   "outputs": [
    {
     "data": {
      "text/plain": [
       "[Row(year=2019, id=22222, dept='DS', email='lee@snu.ac.kr', name='Lee Lee Lee'),\n",
       " Row(year=2019, id=55555, dept='ECE', email='junha@snu.ac.kr', name='Jun Ha Chun'),\n",
       " Row(year=2020, id=11111, dept='ECE', email='kim@snu.ac.kr', name='Kim Kim Kim'),\n",
       " Row(year=2020, id=33333, dept='DS', email='park@snu.ac.kr', name='Park Park Park'),\n",
       " Row(year=2020, id=44444, dept='DS', email='simonjisu@snu.ac.kr', name='Ji Soo Jang')]"
      ]
     },
     "execution_count": 14,
     "metadata": {},
     "output_type": "execute_result"
    }
   ],
   "source": [
    "session.execute(\"SELECT * FROM snu.student\").all()"
   ]
  },
  {
   "cell_type": "markdown",
   "id": "582bda77",
   "metadata": {},
   "source": [
    "#### Delete record from the table"
   ]
  },
  {
   "cell_type": "code",
   "execution_count": 15,
   "id": "20d9fbd3",
   "metadata": {},
   "outputs": [
    {
     "data": {
      "text/plain": [
       "<cassandra.cluster.ResultSet at 0x1fa7e0f6190>"
      ]
     },
     "execution_count": 15,
     "metadata": {},
     "output_type": "execute_result"
    }
   ],
   "source": [
    "session.execute(\n",
    "'''\n",
    "INSERT INTO snu.student (year, id, name, dept, email)\n",
    "  VALUES(9999, 9999, 'Not human', 'X', 'X@snu.ac.kr');\n",
    "'''\n",
    ")"
   ]
  },
  {
   "cell_type": "code",
   "execution_count": 16,
   "id": "76254172",
   "metadata": {},
   "outputs": [
    {
     "data": {
      "text/plain": [
       "<cassandra.cluster.ResultSet at 0x1fa7e0f64c0>"
      ]
     },
     "execution_count": 16,
     "metadata": {},
     "output_type": "execute_result"
    }
   ],
   "source": [
    "session.execute(\"DELETE FROM snu.student WHERE year = 9999\")"
   ]
  },
  {
   "cell_type": "code",
   "execution_count": 17,
   "id": "8c06fd26",
   "metadata": {},
   "outputs": [
    {
     "data": {
      "text/plain": [
       "[Row(year=2019, id=22222, dept='DS', email='lee@snu.ac.kr', name='Lee Lee Lee'),\n",
       " Row(year=2019, id=55555, dept='ECE', email='junha@snu.ac.kr', name='Jun Ha Chun'),\n",
       " Row(year=2020, id=11111, dept='ECE', email='kim@snu.ac.kr', name='Kim Kim Kim'),\n",
       " Row(year=2020, id=33333, dept='DS', email='park@snu.ac.kr', name='Park Park Park'),\n",
       " Row(year=2020, id=44444, dept='DS', email='simonjisu@snu.ac.kr', name='Ji Soo Jang')]"
      ]
     },
     "execution_count": 17,
     "metadata": {},
     "output_type": "execute_result"
    }
   ],
   "source": [
    "session.execute(\"SELECT * FROM snu.student\").all()"
   ]
  },
  {
   "cell_type": "markdown",
   "id": "e4d3989f",
   "metadata": {},
   "source": [
    "#### Empty, Drop the table / Drop the keyspace"
   ]
  },
  {
   "cell_type": "code",
   "execution_count": null,
   "id": "ac573fe8",
   "metadata": {},
   "outputs": [],
   "source": [
    "#session.execute(\"TRUNCATE TABLE snu.student\")"
   ]
  },
  {
   "cell_type": "code",
   "execution_count": null,
   "id": "abbf523e",
   "metadata": {},
   "outputs": [],
   "source": [
    "#session.execute(\"DROP TABLE snu.student\")"
   ]
  },
  {
   "cell_type": "code",
   "execution_count": null,
   "id": "e2ab255e",
   "metadata": {},
   "outputs": [],
   "source": [
    "#session.execute(\"DROP KEYSPACE snu\")"
   ]
  },
  {
   "cell_type": "markdown",
   "id": "037c1178",
   "metadata": {},
   "source": [
    "![title](./img/Cassandra_Tutorials_06.png)"
   ]
  },
  {
   "cell_type": "markdown",
   "id": "77716f8b",
   "metadata": {},
   "source": [
    "![title](./img/Cassandra_Tutorials_07.png)"
   ]
  },
  {
   "cell_type": "markdown",
   "id": "860572d4",
   "metadata": {},
   "source": [
    "### Primary keys\n",
    "\n",
    "- You can't query by range with partition key.\n",
    "\n",
    "- You are not recommended to query only by cluster key.\n",
    "\n",
    "- You are very not recommended to query by non primary key.\n",
    "\n",
    "- You must design query → table / primary key"
   ]
  },
  {
   "cell_type": "code",
   "execution_count": 18,
   "id": "57d10bd4",
   "metadata": {},
   "outputs": [
    {
     "ename": "InvalidRequest",
     "evalue": "Error from server: code=2200 [Invalid query] message=\"Only EQ and IN relation are supported on the partition key (unless you use the token() function)\"",
     "output_type": "error",
     "traceback": [
      "\u001b[1;31m---------------------------------------------------------------------------\u001b[0m",
      "\u001b[1;31mInvalidRequest\u001b[0m                            Traceback (most recent call last)",
      "Input \u001b[1;32mIn [18]\u001b[0m, in \u001b[0;36m<cell line: 1>\u001b[1;34m()\u001b[0m\n\u001b[1;32m----> 1\u001b[0m \u001b[43msession\u001b[49m\u001b[38;5;241;43m.\u001b[39;49m\u001b[43mexecute\u001b[49m\u001b[43m(\u001b[49m\u001b[38;5;124;43m\"\u001b[39;49m\u001b[38;5;124;43mSELECT * FROM snu.student WHERE year > 2019\u001b[39;49m\u001b[38;5;124;43m\"\u001b[39;49m\u001b[43m)\u001b[49m\u001b[38;5;241m.\u001b[39mall()\n",
      "File \u001b[1;32m~\\Anaconda3\\envs\\cass\\lib\\site-packages\\cassandra\\cluster.py:2618\u001b[0m, in \u001b[0;36mcassandra.cluster.Session.execute\u001b[1;34m()\u001b[0m\n",
      "File \u001b[1;32m~\\Anaconda3\\envs\\cass\\lib\\site-packages\\cassandra\\cluster.py:4894\u001b[0m, in \u001b[0;36mcassandra.cluster.ResponseFuture.result\u001b[1;34m()\u001b[0m\n",
      "\u001b[1;31mInvalidRequest\u001b[0m: Error from server: code=2200 [Invalid query] message=\"Only EQ and IN relation are supported on the partition key (unless you use the token() function)\""
     ]
    }
   ],
   "source": [
    "session.execute(\"SELECT * FROM snu.student WHERE year > 2019\").all()"
   ]
  },
  {
   "cell_type": "code",
   "execution_count": 21,
   "id": "c6432369",
   "metadata": {},
   "outputs": [
    {
     "ename": "InvalidRequest",
     "evalue": "Error from server: code=2200 [Invalid query] message=\"Cannot execute this query as it might involve data filtering and thus may have unpredictable performance. If you want to execute this query despite the performance unpredictability, use ALLOW FILTERING\"",
     "output_type": "error",
     "traceback": [
      "\u001b[1;31m---------------------------------------------------------------------------\u001b[0m",
      "\u001b[1;31mInvalidRequest\u001b[0m                            Traceback (most recent call last)",
      "Input \u001b[1;32mIn [21]\u001b[0m, in \u001b[0;36m<cell line: 1>\u001b[1;34m()\u001b[0m\n\u001b[1;32m----> 1\u001b[0m \u001b[43msession\u001b[49m\u001b[38;5;241;43m.\u001b[39;49m\u001b[43mexecute\u001b[49m\u001b[43m(\u001b[49m\u001b[38;5;124;43m\"\u001b[39;49m\u001b[38;5;124;43mSELECT * FROM snu.student WHERE id = 20000\u001b[39;49m\u001b[38;5;124;43m\"\u001b[39;49m\u001b[43m)\u001b[49m\u001b[38;5;241m.\u001b[39mall()\n",
      "File \u001b[1;32m~\\Anaconda3\\envs\\cass\\lib\\site-packages\\cassandra\\cluster.py:2618\u001b[0m, in \u001b[0;36mcassandra.cluster.Session.execute\u001b[1;34m()\u001b[0m\n",
      "File \u001b[1;32m~\\Anaconda3\\envs\\cass\\lib\\site-packages\\cassandra\\cluster.py:4894\u001b[0m, in \u001b[0;36mcassandra.cluster.ResponseFuture.result\u001b[1;34m()\u001b[0m\n",
      "\u001b[1;31mInvalidRequest\u001b[0m: Error from server: code=2200 [Invalid query] message=\"Cannot execute this query as it might involve data filtering and thus may have unpredictable performance. If you want to execute this query despite the performance unpredictability, use ALLOW FILTERING\""
     ]
    }
   ],
   "source": [
    "session.execute(\"SELECT * FROM snu.student WHERE id = 20000\").all()"
   ]
  },
  {
   "cell_type": "code",
   "execution_count": 19,
   "id": "be8e9d51",
   "metadata": {},
   "outputs": [
    {
     "data": {
      "text/plain": [
       "[]"
      ]
     },
     "execution_count": 19,
     "metadata": {},
     "output_type": "execute_result"
    }
   ],
   "source": [
    "session.execute(\"SELECT * FROM snu.student WHERE id = 20000 ALLOW FILTERING\").all() "
   ]
  },
  {
   "cell_type": "code",
   "execution_count": 20,
   "id": "5c9000a9",
   "metadata": {},
   "outputs": [
    {
     "data": {
      "text/plain": [
       "[]"
      ]
     },
     "execution_count": 20,
     "metadata": {},
     "output_type": "execute_result"
    }
   ],
   "source": [
    "session.execute(\"SELECT * FROM snu.student WHERE year = 2019 AND id = 20000\").all()"
   ]
  },
  {
   "cell_type": "code",
   "execution_count": 22,
   "id": "7838f6a4",
   "metadata": {},
   "outputs": [
    {
     "data": {
      "text/plain": [
       "[Row(year=2019, id=22222, dept='DS', email='lee@snu.ac.kr', name='Lee Lee Lee'),\n",
       " Row(year=2019, id=55555, dept='ECE', email='junha@snu.ac.kr', name='Jun Ha Chun')]"
      ]
     },
     "execution_count": 22,
     "metadata": {},
     "output_type": "execute_result"
    }
   ],
   "source": [
    "session.execute(\"SELECT * FROM snu.student WHERE year = 2019 AND id > 20000\").all()"
   ]
  },
  {
   "cell_type": "markdown",
   "id": "a96ee072",
   "metadata": {},
   "source": [
    "### TODO\n",
    "- Replication factor\n",
    "- Consistency\n",
    "- Async\n",
    "- Compaction / sstable / rocksdb \n",
    "- BATCH\n",
    "- Materialized view"
   ]
  },
  {
   "cell_type": "markdown",
   "id": "1bbec72e",
   "metadata": {},
   "source": [
    "### Distributed Setting\n",
    "- Docker\n",
    "- Astra"
   ]
  },
  {
   "cell_type": "code",
   "execution_count": 23,
   "id": "2c96cc70",
   "metadata": {},
   "outputs": [
    {
     "data": {
      "text/plain": [
       "Row(release_version='4.0.0.6816')"
      ]
     },
     "execution_count": 23,
     "metadata": {},
     "output_type": "execute_result"
    }
   ],
   "source": [
    "from cassandra.auth import PlainTextAuthProvider\n",
    "import json\n",
    "\n",
    "key = {}\n",
    "with open('key.txt') as f:\n",
    "    key = json.load(f)\n",
    "\n",
    "cloud_config= {\n",
    "        'secure_connect_bundle': './secure-connect-cassandra-tutorial.zip'\n",
    "}\n",
    "auth_provider = PlainTextAuthProvider(key['clientID'], key['clientSecret'])\n",
    "cluster = Cluster(cloud=cloud_config, auth_provider=auth_provider)\n",
    "session = cluster.connect()\n",
    "\n",
    "session.execute(\"select release_version from system.local\").one()"
   ]
  },
  {
   "cell_type": "code",
   "execution_count": 24,
   "id": "7a4db3fb",
   "metadata": {},
   "outputs": [
    {
     "data": {
      "text/plain": [
       "[Row(peer='172.24.35.2', data_center='asia-south1', dse_version=None, graph=None, host_id=UUID('b89edb89-3de0-4228-8046-499e8a4a2e75'), jmx_port=7199, native_transport_address='172.24.35.2', native_transport_port=29042, native_transport_port_ssl=None, preferred_ip='172.24.35.2', rack='rack1', release_version='4.0.0.6816', rpc_address='172.24.35.2', schema_version=UUID('aaa07454-fa93-3d2d-b7b4-c5da9f2f87fd'), server_id=None, storage_port=7000, storage_port_ssl=7001, tokens=SortedSet(['-3973216027162921237', '-4824212584856678155', '-5641161138316102174', '-6076354814903314155', '-7880102670609790399', '4513513936355413163', '666993213066548225', '7146936265093438770']), workload=None, workloads=None),\n",
       " Row(peer='172.24.26.2', data_center='asia-south1', dse_version=None, graph=None, host_id=UUID('36491cd1-63ba-428b-85a2-1c08c1c6a661'), jmx_port=7199, native_transport_address='172.24.26.2', native_transport_port=29042, native_transport_port_ssl=None, preferred_ip='172.24.26.2', rack='rack2', release_version='4.0.0.6816', rpc_address='172.24.26.2', schema_version=UUID('aaa07454-fa93-3d2d-b7b4-c5da9f2f87fd'), server_id=None, storage_port=7000, storage_port_ssl=7001, tokens=SortedSet(['-5845358291018267409', '-8687270984835076363', '-8761629417644441205', '4440609973447132628', '4646775801657084829', '6276783406789818903', '6282948122792317855', '8449097805740173850']), workload=None, workloads=None)]"
      ]
     },
     "execution_count": 24,
     "metadata": {},
     "output_type": "execute_result"
    }
   ],
   "source": [
    "session.execute(\"SELECT * FROM system.peers\").all()"
   ]
  },
  {
   "cell_type": "code",
   "execution_count": null,
   "id": "31974d0f",
   "metadata": {},
   "outputs": [],
   "source": []
  },
  {
   "cell_type": "code",
   "execution_count": null,
   "id": "733b9fda",
   "metadata": {},
   "outputs": [],
   "source": []
  },
  {
   "cell_type": "code",
   "execution_count": null,
   "id": "bf776c3f",
   "metadata": {},
   "outputs": [],
   "source": []
  },
  {
   "cell_type": "code",
   "execution_count": null,
   "id": "20ff2f30",
   "metadata": {},
   "outputs": [],
   "source": []
  },
  {
   "cell_type": "markdown",
   "id": "bd602f20",
   "metadata": {},
   "source": []
  },
  {
   "cell_type": "markdown",
   "id": "6e576656",
   "metadata": {},
   "source": [
    "### References, Documentations, Materials \n",
    "\n",
    "https://phoenixnap.com/kb/install-cassandra-on-windows\n",
    "\n",
    "https://docs.datastax.com/en/cql-oss/3.3/index.html\n",
    "\n",
    "https://cassandra.apache.org/doc/latest/cassandra/tools/cqlsh.html\n",
    "\n",
    "https://docs.datastax.com/en/developer/python-driver/3.25/getting_started/\n",
    "\n",
    "https://www.freecodecamp.org/news/the-apache-cassandra-beginner-tutorial/#tune-for-consistency-by-setting-up-a-strong-consistency-application\n"
   ]
  },
  {
   "cell_type": "markdown",
   "id": "6730b2af",
   "metadata": {},
   "source": []
  }
 ],
 "metadata": {
  "kernelspec": {
   "display_name": "Python 3 (ipykernel)",
   "language": "python",
   "name": "python3"
  },
  "language_info": {
   "codemirror_mode": {
    "name": "ipython",
    "version": 3
   },
   "file_extension": ".py",
   "mimetype": "text/x-python",
   "name": "python",
   "nbconvert_exporter": "python",
   "pygments_lexer": "ipython3",
   "version": "3.8.13"
  }
 },
 "nbformat": 4,
 "nbformat_minor": 5
}
